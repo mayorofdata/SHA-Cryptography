{
  "nbformat": 4,
  "nbformat_minor": 0,
  "metadata": {
    "colab": {
      "name": "SHA Cryptography",
      "provenance": [],
      "authorship_tag": "ABX9TyPogHkOiP8JavtGMyYe62G/",
      "include_colab_link": true
    },
    "kernelspec": {
      "name": "python3",
      "display_name": "Python 3"
    }
  },
  "cells": [
    {
      "cell_type": "markdown",
      "metadata": {
        "id": "view-in-github",
        "colab_type": "text"
      },
      "source": [
        "<a href=\"https://colab.research.google.com/github/mayorofdata/SHA-Cryptography/blob/main/SHA_Cryptography.ipynb\" target=\"_parent\"><img src=\"https://colab.research.google.com/assets/colab-badge.svg\" alt=\"Open In Colab\"/></a>"
      ]
    },
    {
      "cell_type": "markdown",
      "metadata": {
        "id": "o89nUgBSePcv"
      },
      "source": [
        "**# SHA (Secure Hash Algorithms) - Base of Blockchain**\r\n",
        "\r\n",
        "- SHA256 : This hash function belong to hash class SHA-2, the internal block size of it is 32 bits.\r\n",
        "- SHA384 : This hash function belong to hash class SHA-2, the internal block size of it is 32 bits. This is one of the truncated version.\r\n",
        "- SHA224 : This hash function belong to hash class SHA-2, the internal block size of it is 32 bits. This is one of the truncated version.\r\n",
        "- SHA512 : This hash function belong to hash class SHA-2, the internal block size of it is 64 bits.\r\n",
        "- SHA1 : The 160 bit hash function that resembles MD5 hash in working and was discontinued to be used seeing its security vulnerabilities.\r\n"
      ]
    },
    {
      "cell_type": "code",
      "metadata": {
        "id": "_C9FRohod499"
      },
      "source": [
        "import hashlib"
      ],
      "execution_count": 9,
      "outputs": []
    },
    {
      "cell_type": "markdown",
      "metadata": {
        "id": "V0q7sFJofhkw"
      },
      "source": [
        "**SHA256**"
      ]
    },
    {
      "cell_type": "code",
      "metadata": {
        "colab": {
          "base_uri": "https://localhost:8080/"
        },
        "id": "aG8iPSGPeNev",
        "outputId": "b85d84b6-e0ed-4da2-d218-1966883db513"
      },
      "source": [
        "str1=\"Mayowa Adeleye\"\r\n",
        "### Process of Hashing\r\n",
        "### First step is to encode \r\n",
        "### Then Apply hashing Algorithms\r\n",
        "hashedval = hashlib.sha256(str1.encode())\r\n",
        "print(hashedval)"
      ],
      "execution_count": 10,
      "outputs": [
        {
          "output_type": "stream",
          "text": [
            "<sha256 HASH object @ 0x7fe0dc6d7330>\n"
          ],
          "name": "stdout"
        }
      ]
    },
    {
      "cell_type": "code",
      "metadata": {
        "colab": {
          "base_uri": "https://localhost:8080/",
          "height": 35
        },
        "id": "4-jxe6RUgLJH",
        "outputId": "6de8ff2a-bbd6-4031-dddc-3e30f8ded663"
      },
      "source": [
        "###convert this value to hexadecimal\r\n",
        "hashedval.hexdigest()"
      ],
      "execution_count": 11,
      "outputs": [
        {
          "output_type": "execute_result",
          "data": {
            "application/vnd.google.colaboratory.intrinsic+json": {
              "type": "string"
            },
            "text/plain": [
              "'67aba3b9dce23c3079599d364e07f6ad434a1ff89d461a1fcaa7b3a8e6946ee8'"
            ]
          },
          "metadata": {
            "tags": []
          },
          "execution_count": 11
        }
      ]
    },
    {
      "cell_type": "markdown",
      "metadata": {
        "id": "l7gHvbwrgjBf"
      },
      "source": [
        "**SHA384**"
      ]
    },
    {
      "cell_type": "code",
      "metadata": {
        "colab": {
          "base_uri": "https://localhost:8080/",
          "height": 35
        },
        "id": "aL4xMnCEgfim",
        "outputId": "72806a5a-d7d9-46b6-8240-4ca430127933"
      },
      "source": [
        "hashedval = hashlib.sha384(str1.encode())\r\n",
        "hashedval.hexdigest()"
      ],
      "execution_count": 12,
      "outputs": [
        {
          "output_type": "execute_result",
          "data": {
            "application/vnd.google.colaboratory.intrinsic+json": {
              "type": "string"
            },
            "text/plain": [
              "'5aba11312e9d3e8fb719b32b82de19ad501e54eee5b8c1c6ce5caede1ff1c9a4e4018140696b34e9465c8e8069e42e36'"
            ]
          },
          "metadata": {
            "tags": []
          },
          "execution_count": 12
        }
      ]
    },
    {
      "cell_type": "markdown",
      "metadata": {
        "id": "ESe3KrgOg6yx"
      },
      "source": [
        "**SHA224**"
      ]
    },
    {
      "cell_type": "code",
      "metadata": {
        "colab": {
          "base_uri": "https://localhost:8080/",
          "height": 35
        },
        "id": "kJny43Ebg9Mh",
        "outputId": "cdfe8c70-2cc6-4f8c-b669-60161ede5f19"
      },
      "source": [
        "hashedval = hashlib.sha224(str1.encode())\r\n",
        "hashedval.hexdigest()"
      ],
      "execution_count": 13,
      "outputs": [
        {
          "output_type": "execute_result",
          "data": {
            "application/vnd.google.colaboratory.intrinsic+json": {
              "type": "string"
            },
            "text/plain": [
              "'84ef877351fc12aa504f8f22bc420d95d4fb771488987fcee4ae3da6'"
            ]
          },
          "metadata": {
            "tags": []
          },
          "execution_count": 13
        }
      ]
    },
    {
      "cell_type": "markdown",
      "metadata": {
        "id": "gZd4lmoYhJIy"
      },
      "source": [
        "**SHA512**"
      ]
    },
    {
      "cell_type": "code",
      "metadata": {
        "colab": {
          "base_uri": "https://localhost:8080/",
          "height": 52
        },
        "id": "PrPO0h2ghF6W",
        "outputId": "0e24f102-0668-4544-fc34-935fe775de94"
      },
      "source": [
        "hashedval = hashlib.sha512(str1.encode())\r\n",
        "hashedval.hexdigest()"
      ],
      "execution_count": 16,
      "outputs": [
        {
          "output_type": "execute_result",
          "data": {
            "application/vnd.google.colaboratory.intrinsic+json": {
              "type": "string"
            },
            "text/plain": [
              "'683e54d113deef071a84ff1a5d7213703574b6dcf0599b7b8ecadeb1c88c1e00860282f41e9aca0c7f273a46c16166242fe60109b8f4c062f719076dfda54f1a'"
            ]
          },
          "metadata": {
            "tags": []
          },
          "execution_count": 16
        }
      ]
    },
    {
      "cell_type": "markdown",
      "metadata": {
        "id": "7JLGm6THhel1"
      },
      "source": [
        "**SHA1**"
      ]
    },
    {
      "cell_type": "code",
      "metadata": {
        "colab": {
          "base_uri": "https://localhost:8080/",
          "height": 35
        },
        "id": "_B1spickhQ0Y",
        "outputId": "c19a554d-d8c1-40bc-a5b9-2563253ed14e"
      },
      "source": [
        "hashedval = hashlib.sha1(str1.encode())\r\n",
        "hashedval.hexdigest()"
      ],
      "execution_count": 17,
      "outputs": [
        {
          "output_type": "execute_result",
          "data": {
            "application/vnd.google.colaboratory.intrinsic+json": {
              "type": "string"
            },
            "text/plain": [
              "'aed487f436c5fe5aab75bd5b760e4d5971b7387b'"
            ]
          },
          "metadata": {
            "tags": []
          },
          "execution_count": 17
        }
      ]
    },
    {
      "cell_type": "code",
      "metadata": {
        "id": "s_3G6b5phcCH"
      },
      "source": [
        ""
      ],
      "execution_count": null,
      "outputs": []
    }
  ]
}